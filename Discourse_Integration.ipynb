{
  "nbformat": 4,
  "nbformat_minor": 0,
  "metadata": {
    "colab": {
      "provenance": [],
      "include_colab_link": true
    },
    "kernelspec": {
      "name": "python3",
      "display_name": "Python 3"
    },
    "language_info": {
      "name": "python"
    }
  },
  "cells": [
    {
      "cell_type": "markdown",
      "metadata": {
        "id": "view-in-github",
        "colab_type": "text"
      },
      "source": [
        "<a href=\"https://colab.research.google.com/github/Saru-Tiwari/Discourse-Integration/blob/main/Discourse_Integration.ipynb\" target=\"_parent\"><img src=\"https://colab.research.google.com/assets/colab-badge.svg\" alt=\"Open In Colab\"/></a>"
      ]
    },
    {
      "cell_type": "code",
      "execution_count": null,
      "metadata": {
        "id": "GfxHHSxgBcEk"
      },
      "outputs": [],
      "source": [
        "import spacy\n",
        "\n",
        "# Load the spaCy model\n",
        "nlp = spacy.load(\"en_core_web_sm\")\n",
        "\n",
        "\n"
      ]
    },
    {
      "cell_type": "code",
      "source": [
        "# Example text\n",
        "text = \"\"\"\n",
        "John went to the store. He bought some milk. Then, he went home.\n",
        "\"\"\"\n"
      ],
      "metadata": {
        "id": "HWZ2yg_0BgS6"
      },
      "execution_count": null,
      "outputs": []
    },
    {
      "cell_type": "code",
      "source": [
        "\n",
        "# Process the text with spaCy\n",
        "doc = nlp(text)\n",
        "\n",
        "\n"
      ],
      "metadata": {
        "id": "6jUjBcMFBk9P"
      },
      "execution_count": null,
      "outputs": []
    },
    {
      "cell_type": "code",
      "source": [
        "# Function to resolve pronouns to their antecedents\n",
        "def resolve_pronouns(doc):\n",
        "    resolved_text = []\n",
        "    last_subject = None\n",
        "\n",
        "    for sent in doc.sents:\n",
        "        sent_resolved = []\n",
        "        for token in sent:\n",
        "            if token.pos_ == 'PRON' and last_subject:\n",
        "                sent_resolved.append(last_subject.text)\n",
        "            else:\n",
        "                if token.dep_ == 'nsubj':\n",
        "                    last_subject = token\n",
        "                sent_resolved.append(token.text)\n",
        "        resolved_text.append(' '.join(sent_resolved))\n",
        "\n",
        "    return ' '.join(resolved_text)\n",
        "\n",
        "\n"
      ],
      "metadata": {
        "id": "EsmtT3KACwFs"
      },
      "execution_count": null,
      "outputs": []
    },
    {
      "cell_type": "code",
      "source": [
        "# Get the resolved text\n",
        "resolved_text = resolve_pronouns(doc)\n",
        "\n",
        "print(\"Original text:\")\n",
        "print(text)\n",
        "print(\"\\nResolved text:\")\n",
        "print(resolved_text)"
      ],
      "metadata": {
        "colab": {
          "base_uri": "https://localhost:8080/"
        },
        "id": "FURO9YmGBnWx",
        "outputId": "76160091-cbc5-44b7-c48c-51437d648553"
      },
      "execution_count": null,
      "outputs": [
        {
          "output_type": "stream",
          "name": "stdout",
          "text": [
            "Original text:\n",
            "\n",
            "John went to the store. He bought some milk. Then, he went home.\n",
            "\n",
            "\n",
            "Resolved text:\n",
            "\n",
            " John went to the store . John bought some milk . Then , John went home . \n",
            "\n"
          ]
        }
      ]
    }
  ]
}